{
  "nbformat": 4,
  "nbformat_minor": 0,
  "metadata": {
    "colab": {
      "provenance": [],
      "toc_visible": true,
      "include_colab_link": true
    },
    "kernelspec": {
      "name": "python3",
      "display_name": "Python 3"
    },
    "language_info": {
      "name": "python"
    }
  },
  "cells": [
    {
      "cell_type": "markdown",
      "metadata": {
        "id": "view-in-github",
        "colab_type": "text"
      },
      "source": [
        "<a href=\"https://colab.research.google.com/github/los61013/kaggle-titanic/blob/main/Kaggle_Titanic_Data.ipynb\" target=\"_parent\"><img src=\"https://colab.research.google.com/assets/colab-badge.svg\" alt=\"Open In Colab\"/></a>"
      ]
    },
    {
      "cell_type": "markdown",
      "source": [
        "# **鐵達尼號倖存者預測**"
      ],
      "metadata": {
        "id": "5y3k2C2uAwFQ"
      }
    },
    {
      "cell_type": "markdown",
      "source": [
        "# 環境準備"
      ],
      "metadata": {
        "id": "FWLkHip5y8XU"
      }
    },
    {
      "cell_type": "markdown",
      "source": [
        "**掛載硬碟**\n",
        "\n"
      ],
      "metadata": {
        "id": "tMfZS2rlzWPO"
      }
    },
    {
      "cell_type": "code",
      "source": [
        "from google.colab import drive\n",
        "drive.mount(\"/content/gdrive\")"
      ],
      "metadata": {
        "colab": {
          "base_uri": "https://localhost:8080/"
        },
        "id": "a6Vh4vdwbdBc",
        "outputId": "c1e54bb3-0c50-423d-92a7-c7349cc45072"
      },
      "execution_count": null,
      "outputs": [
        {
          "output_type": "stream",
          "name": "stdout",
          "text": [
            "Mounted at /content/gdrive\n"
          ]
        }
      ]
    },
    {
      "cell_type": "code",
      "source": [
        "%cd /content/gdrive/MyDrive/"
      ],
      "metadata": {
        "colab": {
          "base_uri": "https://localhost:8080/"
        },
        "id": "hHAjud-xb81D",
        "outputId": "a2b399b7-184b-45bb-daa8-88b924602eab"
      },
      "execution_count": null,
      "outputs": [
        {
          "output_type": "stream",
          "name": "stdout",
          "text": [
            "/content/gdrive/MyDrive\n"
          ]
        }
      ]
    },
    {
      "cell_type": "code",
      "source": [
        "import os\n",
        "\n",
        "if not os.path.isdir(\"資料探勘\"):\n",
        "  os.makedirs(\"資料探勘\")"
      ],
      "metadata": {
        "id": "R7Kln_zob-b_"
      },
      "execution_count": null,
      "outputs": []
    },
    {
      "cell_type": "code",
      "source": [
        "%cd 資料探勘/"
      ],
      "metadata": {
        "colab": {
          "base_uri": "https://localhost:8080/"
        },
        "id": "nT9m5R_gcKB_",
        "outputId": "13f86372-5412-4d20-c61e-0274ce946856"
      },
      "execution_count": null,
      "outputs": [
        {
          "output_type": "stream",
          "name": "stdout",
          "text": [
            "/content/gdrive/MyDrive/資料探勘\n"
          ]
        }
      ]
    },
    {
      "cell_type": "markdown",
      "source": [
        "# 程式碼\n"
      ],
      "metadata": {
        "id": "v4kyLrI10N92"
      }
    },
    {
      "cell_type": "markdown",
      "source": [
        "## 1. Import必要模組"
      ],
      "metadata": {
        "id": "gnKoKwjtXOrC"
      }
    },
    {
      "cell_type": "code",
      "execution_count": null,
      "metadata": {
        "colab": {
          "base_uri": "https://localhost:8080/"
        },
        "id": "uvednizJArOU",
        "outputId": "ca6c787e-642d-4571-9478-db57938db779"
      },
      "outputs": [
        {
          "output_type": "stream",
          "name": "stdout",
          "text": [
            "Setup Complete\n"
          ]
        }
      ],
      "source": [
        "import pandas as pd\n",
        "import numpy as np\n",
        "import seaborn as sn\n",
        "import matplotlib.pyplot as plt\n",
        "from IPython.display import display\n",
        "from IPython.display import display_html\n",
        "from sklearn import linear_model\n",
        "from sklearn.linear_model import LogisticRegression\n",
        "from sklearn.ensemble import RandomForestClassifier\n",
        "from sklearn.linear_model import Perceptron\n",
        "from sklearn.linear_model import SGDClassifier\n",
        "from sklearn.tree import DecisionTreeClassifier\n",
        "from sklearn.svm import SVC, LinearSVC\n",
        "from sklearn.naive_bayes import GaussianNB\n",
        "print(\"Setup Complete\")\n"
      ]
    },
    {
      "cell_type": "markdown",
      "source": [
        "## 2. 資料讀取、前處理\n",
        "\n"
      ],
      "metadata": {
        "id": "HdZU5yrj1dfl"
      }
    },
    {
      "cell_type": "markdown",
      "source": [
        "*   設定資料路徑並讀取檢視\n",
        "\n",
        "\n"
      ],
      "metadata": {
        "id": "1xxGy0ir4Waj"
      }
    },
    {
      "cell_type": "code",
      "source": [
        "#讀取資料路徑\n",
        "test_data = pd.read_csv(\"/content/gdrive/MyDrive/資料探勘/titanic data/test.csv\")\n",
        "train_data = pd.read_csv(\"/content/gdrive/MyDrive/資料探勘/titanic data/train.csv\")\n",
        "\n",
        "#檢視資料\n",
        "print(train_data.head())\n",
        "print(\"train data:\",train_data.shape)\n",
        "print(test_data.head())\n",
        "print(\"test data:\",test_data.shape)"
      ],
      "metadata": {
        "colab": {
          "base_uri": "https://localhost:8080/"
        },
        "id": "ngagDzgLA_Ot",
        "outputId": "1447179b-731a-423b-97bc-2342db4e4de2"
      },
      "execution_count": null,
      "outputs": [
        {
          "output_type": "stream",
          "name": "stdout",
          "text": [
            "   survived  pclass                                               name  \\\n",
            "0         0       3                            Braund, Mr. Owen Harris   \n",
            "1         1       1  Cumings, Mrs. John Bradley (Florence Briggs Th...   \n",
            "2         1       3                             Heikkinen, Miss. Laina   \n",
            "3         1       1       Futrelle, Mrs. Jacques Heath (Lily May Peel)   \n",
            "4         0       3                           Allen, Mr. William Henry   \n",
            "\n",
            "      sex   age  sibsp  parch            ticket     fare cabin embarked  \n",
            "0    male  22.0      1      0         A/5 21171   7.2500   NaN        S  \n",
            "1  female  38.0      1      0          PC 17599  71.2833   C85        C  \n",
            "2  female  26.0      0      0  STON/O2. 3101282   7.9250   NaN        S  \n",
            "3  female  35.0      1      0            113803  53.1000  C123        S  \n",
            "4    male  35.0      0      0            373450   8.0500   NaN        S  \n",
            "train data: (891, 11)\n",
            "   pclass                                          name     sex   age  sibsp  \\\n",
            "0       3                              Kelly, Mr. James    male  34.5      0   \n",
            "1       3              Wilkes, Mrs. James (Ellen Needs)  female  47.0      1   \n",
            "2       2                     Myles, Mr. Thomas Francis    male  62.0      0   \n",
            "3       3                              Wirz, Mr. Albert    male  27.0      0   \n",
            "4       3  Hirvonen, Mrs. Alexander (Helga E Lindqvist)  female  22.0      1   \n",
            "\n",
            "   parch   ticket     fare cabin embarked  \n",
            "0      0   330911   7.8292   NaN        Q  \n",
            "1      0   363272   7.0000   NaN        S  \n",
            "2      0   240276   9.6875   NaN        Q  \n",
            "3      0   315154   8.6625   NaN        S  \n",
            "4      1  3101298  12.2875   NaN        S  \n",
            "test data: (418, 10)\n"
          ]
        }
      ]
    },
    {
      "cell_type": "markdown",
      "source": [
        "\n",
        "\n",
        "*   資料合併(若需要儲存可用to_csv儲存合併後的檔案)\n",
        "\n"
      ],
      "metadata": {
        "id": "TaULetGs4nVn"
      }
    },
    {
      "cell_type": "code",
      "source": [
        "#資料合併\n",
        "alldata = train_data.append(test_data)\n",
        "alldata.reset_index(inplace=True, drop=True)\n",
        "#alldata.to_csv(save_path+'\\\\'+ save_name,encoding=\"utf_8_sig\",index=False) #資料儲存\n",
        "print(alldata.head())\n",
        "print(\"alldata:\", alldata.shape)"
      ],
      "metadata": {
        "id": "QwFLk1_4BHoc",
        "colab": {
          "base_uri": "https://localhost:8080/"
        },
        "outputId": "c276ec18-e862-4831-f253-125fe0cf4e93"
      },
      "execution_count": null,
      "outputs": [
        {
          "output_type": "stream",
          "name": "stdout",
          "text": [
            "   survived  pclass                                               name  \\\n",
            "0       0.0       3                            Braund, Mr. Owen Harris   \n",
            "1       1.0       1  Cumings, Mrs. John Bradley (Florence Briggs Th...   \n",
            "2       1.0       3                             Heikkinen, Miss. Laina   \n",
            "3       1.0       1       Futrelle, Mrs. Jacques Heath (Lily May Peel)   \n",
            "4       0.0       3                           Allen, Mr. William Henry   \n",
            "\n",
            "      sex   age  sibsp  parch            ticket     fare cabin embarked  \n",
            "0    male  22.0      1      0         A/5 21171   7.2500   NaN        S  \n",
            "1  female  38.0      1      0          PC 17599  71.2833   C85        C  \n",
            "2  female  26.0      0      0  STON/O2. 3101282   7.9250   NaN        S  \n",
            "3  female  35.0      1      0            113803  53.1000  C123        S  \n",
            "4    male  35.0      0      0            373450   8.0500   NaN        S  \n",
            "alldata: (1309, 11)\n"
          ]
        }
      ]
    },
    {
      "cell_type": "markdown",
      "source": [
        "\n",
        "\n",
        "*   檢視資料缺失\n",
        "\n"
      ],
      "metadata": {
        "id": "b3lZm1BU44E1"
      }
    },
    {
      "cell_type": "code",
      "source": [
        "all_data_miss = alldata.isnull().sum()\n",
        "print(all_data_miss[1:11])\n",
        "total_data = np.product(alldata.shape)\n",
        "total_miss = all_data_miss[1:11].sum()\n",
        "percent_miss = (total_miss / total_data) * 100\n",
        "print(\"缺失數:\", total_miss,\"佔比:\", percent_miss,\"%\")"
      ],
      "metadata": {
        "colab": {
          "base_uri": "https://localhost:8080/"
        },
        "id": "0rFj7Bh047m2",
        "outputId": "add65f82-b756-48dd-97d5-a9dabf665c32"
      },
      "execution_count": null,
      "outputs": [
        {
          "output_type": "stream",
          "name": "stdout",
          "text": [
            "pclass         0\n",
            "name           0\n",
            "sex            0\n",
            "age          263\n",
            "sibsp          0\n",
            "parch          0\n",
            "ticket         0\n",
            "fare           1\n",
            "cabin       1014\n",
            "embarked       2\n",
            "dtype: int64\n",
            "缺失數: 1280 佔比: 8.889506215709424 %\n"
          ]
        }
      ]
    },
    {
      "cell_type": "markdown",
      "source": [
        "資料特徵包含:\n",
        "*   survied:是否生存(0死1活)\n",
        "*   pclass:艙等(1頭等2商務3經濟)\n",
        "*   name:姓名\n",
        "*   sex:性別\n",
        "*   age:年齡\n",
        "*   sibsp:船上有兄弟/配偶的數目 \n",
        "*   parch:船上有父母/小孩的數目\n",
        "*   ticket:船票編號\n",
        "*   fare:船票價格\n",
        "*   cabin:船艙編號\n",
        "*   embarked:上船的岸口(C法國瑟堡Q英國皇后鎮S英國南安普頓)\n",
        "\n",
        "\n",
        "\n",
        "\n",
        "\n",
        "\n"
      ],
      "metadata": {
        "id": "e2x_xzegBH6T"
      }
    },
    {
      "cell_type": "markdown",
      "source": [
        "## 3.   特徵觀察\n"
      ],
      "metadata": {
        "id": "dU9whzmg5fVJ"
      }
    },
    {
      "cell_type": "markdown",
      "source": [
        "* 性別生存率"
      ],
      "metadata": {
        "id": "MGTgSfaKRE80"
      }
    },
    {
      "cell_type": "code",
      "source": [
        "plt.figure(num=1)\n",
        "plt.title(\"sex/survived\")\n",
        "sn.countplot(x= alldata['sex'], hue=alldata['survived'])\n",
        "display(alldata[[\"sex\", \"survived\"]].groupby(['sex'], as_index=False).mean())"
      ],
      "metadata": {
        "colab": {
          "base_uri": "https://localhost:8080/",
          "height": 390
        },
        "id": "wziP7mrd5fEp",
        "outputId": "a4d468ff-1046-49cb-e138-c51185df922d"
      },
      "execution_count": null,
      "outputs": [
        {
          "output_type": "display_data",
          "data": {
            "text/plain": [
              "      sex  survived\n",
              "0  female  0.742038\n",
              "1    male  0.188908"
            ],
            "text/html": [
              "\n",
              "  <div id=\"df-bbf1cf3c-bb78-4287-bbe0-08c14a6ce6cc\">\n",
              "    <div class=\"colab-df-container\">\n",
              "      <div>\n",
              "<style scoped>\n",
              "    .dataframe tbody tr th:only-of-type {\n",
              "        vertical-align: middle;\n",
              "    }\n",
              "\n",
              "    .dataframe tbody tr th {\n",
              "        vertical-align: top;\n",
              "    }\n",
              "\n",
              "    .dataframe thead th {\n",
              "        text-align: right;\n",
              "    }\n",
              "</style>\n",
              "<table border=\"1\" class=\"dataframe\">\n",
              "  <thead>\n",
              "    <tr style=\"text-align: right;\">\n",
              "      <th></th>\n",
              "      <th>sex</th>\n",
              "      <th>survived</th>\n",
              "    </tr>\n",
              "  </thead>\n",
              "  <tbody>\n",
              "    <tr>\n",
              "      <th>0</th>\n",
              "      <td>female</td>\n",
              "      <td>0.742038</td>\n",
              "    </tr>\n",
              "    <tr>\n",
              "      <th>1</th>\n",
              "      <td>male</td>\n",
              "      <td>0.188908</td>\n",
              "    </tr>\n",
              "  </tbody>\n",
              "</table>\n",
              "</div>\n",
              "      <button class=\"colab-df-convert\" onclick=\"convertToInteractive('df-bbf1cf3c-bb78-4287-bbe0-08c14a6ce6cc')\"\n",
              "              title=\"Convert this dataframe to an interactive table.\"\n",
              "              style=\"display:none;\">\n",
              "        \n",
              "  <svg xmlns=\"http://www.w3.org/2000/svg\" height=\"24px\"viewBox=\"0 0 24 24\"\n",
              "       width=\"24px\">\n",
              "    <path d=\"M0 0h24v24H0V0z\" fill=\"none\"/>\n",
              "    <path d=\"M18.56 5.44l.94 2.06.94-2.06 2.06-.94-2.06-.94-.94-2.06-.94 2.06-2.06.94zm-11 1L8.5 8.5l.94-2.06 2.06-.94-2.06-.94L8.5 2.5l-.94 2.06-2.06.94zm10 10l.94 2.06.94-2.06 2.06-.94-2.06-.94-.94-2.06-.94 2.06-2.06.94z\"/><path d=\"M17.41 7.96l-1.37-1.37c-.4-.4-.92-.59-1.43-.59-.52 0-1.04.2-1.43.59L10.3 9.45l-7.72 7.72c-.78.78-.78 2.05 0 2.83L4 21.41c.39.39.9.59 1.41.59.51 0 1.02-.2 1.41-.59l7.78-7.78 2.81-2.81c.8-.78.8-2.07 0-2.86zM5.41 20L4 18.59l7.72-7.72 1.47 1.35L5.41 20z\"/>\n",
              "  </svg>\n",
              "      </button>\n",
              "      \n",
              "  <style>\n",
              "    .colab-df-container {\n",
              "      display:flex;\n",
              "      flex-wrap:wrap;\n",
              "      gap: 12px;\n",
              "    }\n",
              "\n",
              "    .colab-df-convert {\n",
              "      background-color: #E8F0FE;\n",
              "      border: none;\n",
              "      border-radius: 50%;\n",
              "      cursor: pointer;\n",
              "      display: none;\n",
              "      fill: #1967D2;\n",
              "      height: 32px;\n",
              "      padding: 0 0 0 0;\n",
              "      width: 32px;\n",
              "    }\n",
              "\n",
              "    .colab-df-convert:hover {\n",
              "      background-color: #E2EBFA;\n",
              "      box-shadow: 0px 1px 2px rgba(60, 64, 67, 0.3), 0px 1px 3px 1px rgba(60, 64, 67, 0.15);\n",
              "      fill: #174EA6;\n",
              "    }\n",
              "\n",
              "    [theme=dark] .colab-df-convert {\n",
              "      background-color: #3B4455;\n",
              "      fill: #D2E3FC;\n",
              "    }\n",
              "\n",
              "    [theme=dark] .colab-df-convert:hover {\n",
              "      background-color: #434B5C;\n",
              "      box-shadow: 0px 1px 3px 1px rgba(0, 0, 0, 0.15);\n",
              "      filter: drop-shadow(0px 1px 2px rgba(0, 0, 0, 0.3));\n",
              "      fill: #FFFFFF;\n",
              "    }\n",
              "  </style>\n",
              "\n",
              "      <script>\n",
              "        const buttonEl =\n",
              "          document.querySelector('#df-bbf1cf3c-bb78-4287-bbe0-08c14a6ce6cc button.colab-df-convert');\n",
              "        buttonEl.style.display =\n",
              "          google.colab.kernel.accessAllowed ? 'block' : 'none';\n",
              "\n",
              "        async function convertToInteractive(key) {\n",
              "          const element = document.querySelector('#df-bbf1cf3c-bb78-4287-bbe0-08c14a6ce6cc');\n",
              "          const dataTable =\n",
              "            await google.colab.kernel.invokeFunction('convertToInteractive',\n",
              "                                                     [key], {});\n",
              "          if (!dataTable) return;\n",
              "\n",
              "          const docLinkHtml = 'Like what you see? Visit the ' +\n",
              "            '<a target=\"_blank\" href=https://colab.research.google.com/notebooks/data_table.ipynb>data table notebook</a>'\n",
              "            + ' to learn more about interactive tables.';\n",
              "          element.innerHTML = '';\n",
              "          dataTable['output_type'] = 'display_data';\n",
              "          await google.colab.output.renderOutput(dataTable, element);\n",
              "          const docLink = document.createElement('div');\n",
              "          docLink.innerHTML = docLinkHtml;\n",
              "          element.appendChild(docLink);\n",
              "        }\n",
              "      </script>\n",
              "    </div>\n",
              "  </div>\n",
              "  "
            ]
          },
          "metadata": {}
        },
        {
          "output_type": "display_data",
          "data": {
            "text/plain": [
              "<Figure size 432x288 with 1 Axes>"
            ],
            "image/png": "[encoded data removed]"
          },
          "metadata": {
            "needs_background": "light"
          }
        }
      ]
    },
    {
      "cell_type": "markdown",
      "source": [
        "* 艙等存活率"
      ],
      "metadata": {
        "id": "yoYpnyNdBoaD"
      }
    },
    {
      "cell_type": "code",
      "source": [
        "#艙等存活率\n",
        "plt.figure(num=2)\n",
        "plt.title(\"pclass/survived\")\n",
        "sn.countplot(x=alldata['pclass'], hue=alldata['survived'])\n",
        "display(alldata[['pclass', 'survived']].groupby(['pclass'], as_index=False).mean())"
      ],
      "metadata": {
        "colab": {
          "base_uri": "https://localhost:8080/",
          "height": 421
        },
        "id": "c1pONubu5aCB",
        "outputId": "dd707d5b-a836-4876-d6d1-51e5e3465730"
      },
      "execution_count": null,
      "outputs": [
        {
          "output_type": "display_data",
          "data": {
            "text/plain": [
              "   pclass  survived\n",
              "0       1  0.629630\n",
              "1       2  0.472826\n",
              "2       3  0.242363"
            ],
            "text/html": [
              "\n",
              "  <div id=\"df-98f120fa-ca03-4c51-9e59-b61be48aac97\">\n",
              "    <div class=\"colab-df-container\">\n",
              "      <div>\n",
              "<style scoped>\n",
              "    .dataframe tbody tr th:only-of-type {\n",
              "        vertical-align: middle;\n",
              "    }\n",
              "\n",
              "    .dataframe tbody tr th {\n",
              "        vertical-align: top;\n",
              "    }\n",
              "\n",
              "    .dataframe thead th {\n",
              "        text-align: right;\n",
              "    }\n",
              "</style>\n",
              "<table border=\"1\" class=\"dataframe\">\n",
              "  <thead>\n",
              "    <tr style=\"text-align: right;\">\n",
              "      <th></th>\n",
              "      <th>pclass</th>\n",
              "      <th>survived</th>\n",
              "    </tr>\n",
              "  </thead>\n",
              "  <tbody>\n",
              "    <tr>\n",
              "      <th>0</th>\n",
              "      <td>1</td>\n",
              "      <td>0.629630</td>\n",
              "    </tr>\n",
              "    <tr>\n",
              "      <th>1</th>\n",
              "      <td>2</td>\n",
              "      <td>0.472826</td>\n",
              "    </tr>\n",
              "    <tr>\n",
              "      <th>2</th>\n",
              "      <td>3</td>\n",
              "      <td>0.242363</td>\n",
              "    </tr>\n",
              "  </tbody>\n",
              "</table>\n",
              "</div>\n",
              "      <button class=\"colab-df-convert\" onclick=\"convertToInteractive('df-98f120fa-ca03-4c51-9e59-b61be48aac97')\"\n",
              "              title=\"Convert this dataframe to an interactive table.\"\n",
              "              style=\"display:none;\">\n",
              "        \n",
              "  <svg xmlns=\"http://www.w3.org/2000/svg\" height=\"24px\"viewBox=\"0 0 24 24\"\n",
              "       width=\"24px\">\n",
              "    <path d=\"M0 0h24v24H0V0z\" fill=\"none\"/>\n",
              "    <path d=\"M18.56 5.44l.94 2.06.94-2.06 2.06-.94-2.06-.94-.94-2.06-.94 2.06-2.06.94zm-11 1L8.5 8.5l.94-2.06 2.06-.94-2.06-.94L8.5 2.5l-.94 2.06-2.06.94zm10 10l.94 2.06.94-2.06 2.06-.94-2.06-.94-.94-2.06-.94 2.06-2.06.94z\"/><path d=\"M17.41 7.96l-1.37-1.37c-.4-.4-.92-.59-1.43-.59-.52 0-1.04.2-1.43.59L10.3 9.45l-7.72 7.72c-.78.78-.78 2.05 0 2.83L4 21.41c.39.39.9.59 1.41.59.51 0 1.02-.2 1.41-.59l7.78-7.78 2.81-2.81c.8-.78.8-2.07 0-2.86zM5.41 20L4 18.59l7.72-7.72 1.47 1.35L5.41 20z\"/>\n",
              "  </svg>\n",
              "      </button>\n",
              "      \n",
              "  <style>\n",
              "    .colab-df-container {\n",
              "      display:flex;\n",
              "      flex-wrap:wrap;\n",
              "      gap: 12px;\n",
              "    }\n",
              "\n",
              "    .colab-df-convert {\n",
              "      background-color: #E8F0FE;\n",
              "      border: none;\n",
              "      border-radius: 50%;\n",
              "      cursor: pointer;\n",
              "      display: none;\n",
              "      fill: #1967D2;\n",
              "      height: 32px;\n",
              "      padding: 0 0 0 0;\n",
              "      width: 32px;\n",
              "    }\n",
              "\n",
              "    .colab-df-convert:hover {\n",
              "      background-color: #E2EBFA;\n",
              "      box-shadow: 0px 1px 2px rgba(60, 64, 67, 0.3), 0px 1px 3px 1px rgba(60, 64, 67, 0.15);\n",
              "      fill: #174EA6;\n",
              "    }\n",
              "\n",
              "    [theme=dark] .colab-df-convert {\n",
              "      background-color: #3B4455;\n",
              "      fill: #D2E3FC;\n",
              "    }\n",
              "\n",
              "    [theme=dark] .colab-df-convert:hover {\n",
              "      background-color: #434B5C;\n",
              "      box-shadow: 0px 1px 3px 1px rgba(0, 0, 0, 0.15);\n",
              "      filter: drop-shadow(0px 1px 2px rgba(0, 0, 0, 0.3));\n",
              "      fill: #FFFFFF;\n",
              "    }\n",
              "  </style>\n",
              "\n",
              "      <script>\n",
              "        const buttonEl =\n",
              "          document.querySelector('#df-98f120fa-ca03-4c51-9e59-b61be48aac97 button.colab-df-convert');\n",
              "        buttonEl.style.display =\n",
              "          google.colab.kernel.accessAllowed ? 'block' : 'none';\n",
              "\n",
              "        async function convertToInteractive(key) {\n",
              "          const element = document.querySelector('#df-98f120fa-ca03-4c51-9e59-b61be48aac97');\n",
              "          const dataTable =\n",
              "            await google.colab.kernel.invokeFunction('convertToInteractive',\n",
              "                                                     [key], {});\n",
              "          if (!dataTable) return;\n",
              "\n",
              "          const docLinkHtml = 'Like what you see? Visit the ' +\n",
              "            '<a target=\"_blank\" href=https://colab.research.google.com/notebooks/data_table.ipynb>data table notebook</a>'\n",
              "            + ' to learn more about interactive tables.';\n",
              "          element.innerHTML = '';\n",
              "          dataTable['output_type'] = 'display_data';\n",
              "          await google.colab.output.renderOutput(dataTable, element);\n",
              "          const docLink = document.createElement('div');\n",
              "          docLink.innerHTML = docLinkHtml;\n",
              "          element.appendChild(docLink);\n",
              "        }\n",
              "      </script>\n",
              "    </div>\n",
              "  </div>\n",
              "  "
            ]
          },
          "metadata": {}
        },
        {
          "output_type": "display_data",
          "data": {
            "text/plain": [
              "<Figure size 432x288 with 1 Axes>"
            ],
            "image/png": "[encoded data removed]"
          },
          "metadata": {
            "needs_background": "light"
          }
        }
      ]
    },
    {
      "cell_type": "markdown",
      "source": [
        "* 性別與艙等存活率\n"
      ],
      "metadata": {
        "id": "KqHb9axyBr8R"
      }
    },
    {
      "cell_type": "code",
      "source": [
        "#性別與艙等存活率\n",
        "display(alldata[['pclass', 'sex', 'survived']].groupby(['pclass', 'sex'], as_index=False).mean().sort_values(by='survived', ascending=False))"
      ],
      "metadata": {
        "colab": {
          "base_uri": "https://localhost:8080/",
          "height": 238
        },
        "id": "-ZGAAob5EGB_",
        "outputId": "46aa7534-cfa6-4d70-975d-79c47c4577f5"
      },
      "execution_count": null,
      "outputs": [
        {
          "output_type": "display_data",
          "data": {
            "text/plain": [
              "   pclass     sex  survived\n",
              "0       1  female  0.968085\n",
              "2       2  female  0.921053\n",
              "4       3  female  0.500000\n",
              "1       1    male  0.368852\n",
              "3       2    male  0.157407\n",
              "5       3    male  0.135447"
            ],
            "text/html": [
              "\n",
              "  <div id=\"df-2ab29c37-ed6b-4895-8005-f435971df0ab\">\n",
              "    <div class=\"colab-df-container\">\n",
              "      <div>\n",
              "<style scoped>\n",
              "    .dataframe tbody tr th:only-of-type {\n",
              "        vertical-align: middle;\n",
              "    }\n",
              "\n",
              "    .dataframe tbody tr th {\n",
              "        vertical-align: top;\n",
              "    }\n",
              "\n",
              "    .dataframe thead th {\n",
              "        text-align: right;\n",
              "    }\n",
              "</style>\n",
              "<table border=\"1\" class=\"dataframe\">\n",
              "  <thead>\n",
              "    <tr style=\"text-align: right;\">\n",
              "      <th></th>\n",
              "      <th>pclass</th>\n",
              "      <th>sex</th>\n",
              "      <th>survived</th>\n",
              "    </tr>\n",
              "  </thead>\n",
              "  <tbody>\n",
              "    <tr>\n",
              "      <th>0</th>\n",
              "      <td>1</td>\n",
              "      <td>female</td>\n",
              "      <td>0.968085</td>\n",
              "    </tr>\n",
              "    <tr>\n",
              "      <th>2</th>\n",
              "      <td>2</td>\n",
              "      <td>female</td>\n",
              "      <td>0.921053</td>\n",
              "    </tr>\n",
              "    <tr>\n",
              "      <th>4</th>\n",
              "      <td>3</td>\n",
              "      <td>female</td>\n",
              "      <td>0.500000</td>\n",
              "    </tr>\n",
              "    <tr>\n",
              "      <th>1</th>\n",
              "      <td>1</td>\n",
              "      <td>male</td>\n",
              "      <td>0.368852</td>\n",
              "    </tr>\n",
              "    <tr>\n",
              "      <th>3</th>\n",
              "      <td>2</td>\n",
              "      <td>male</td>\n",
              "      <td>0.157407</td>\n",
              "    </tr>\n",
              "    <tr>\n",
              "      <th>5</th>\n",
              "      <td>3</td>\n",
              "      <td>male</td>\n",
              "      <td>0.135447</td>\n",
              "    </tr>\n",
              "  </tbody>\n",
              "</table>\n",
              "</div>\n",
              "      <button class=\"colab-df-convert\" onclick=\"convertToInteractive('df-2ab29c37-ed6b-4895-8005-f435971df0ab')\"\n",
              "              title=\"Convert this dataframe to an interactive table.\"\n",
              "              style=\"display:none;\">\n",
              "        \n",
              "  <svg xmlns=\"http://www.w3.org/2000/svg\" height=\"24px\"viewBox=\"0 0 24 24\"\n",
              "       width=\"24px\">\n",
              "    <path d=\"M0 0h24v24H0V0z\" fill=\"none\"/>\n",
              "    <path d=\"M18.56 5.44l.94 2.06.94-2.06 2.06-.94-2.06-.94-.94-2.06-.94 2.06-2.06.94zm-11 1L8.5 8.5l.94-2.06 2.06-.94-2.06-.94L8.5 2.5l-.94 2.06-2.06.94zm10 10l.94 2.06.94-2.06 2.06-.94-2.06-.94-.94-2.06-.94 2.06-2.06.94z\"/><path d=\"M17.41 7.96l-1.37-1.37c-.4-.4-.92-.59-1.43-.59-.52 0-1.04.2-1.43.59L10.3 9.45l-7.72 7.72c-.78.78-.78 2.05 0 2.83L4 21.41c.39.39.9.59 1.41.59.51 0 1.02-.2 1.41-.59l7.78-7.78 2.81-2.81c.8-.78.8-2.07 0-2.86zM5.41 20L4 18.59l7.72-7.72 1.47 1.35L5.41 20z\"/>\n",
              "  </svg>\n",
              "      </button>\n",
              "      \n",
              "  <style>\n",
              "    .colab-df-container {\n",
              "      display:flex;\n",
              "      flex-wrap:wrap;\n",
              "      gap: 12px;\n",
              "    }\n",
              "\n",
              "    .colab-df-convert {\n",
              "      background-color: #E8F0FE;\n",
              "      border: none;\n",
              "      border-radius: 50%;\n",
              "      cursor: pointer;\n",
              "      display: none;\n",
              "      fill: #1967D2;\n",
              "      height: 32px;\n",
              "      padding: 0 0 0 0;\n",
              "      width: 32px;\n",
              "    }\n",
              "\n",
              "    .colab-df-convert:hover {\n",
              "      background-color: #E2EBFA;\n",
              "      box-shadow: 0px 1px 2px rgba(60, 64, 67, 0.3), 0px 1px 3px 1px rgba(60, 64, 67, 0.15);\n",
              "      fill: #174EA6;\n",
              "    }\n",
              "\n",
              "    [theme=dark] .colab-df-convert {\n",
              "      background-color: #3B4455;\n",
              "      fill: #D2E3FC;\n",
              "    }\n",
              "\n",
              "    [theme=dark] .colab-df-convert:hover {\n",
              "      background-color: #434B5C;\n",
              "      box-shadow: 0px 1px 3px 1px rgba(0, 0, 0, 0.15);\n",
              "      filter: drop-shadow(0px 1px 2px rgba(0, 0, 0, 0.3));\n",
              "      fill: #FFFFFF;\n",
              "    }\n",
              "  </style>\n",
              "\n",
              "      <script>\n",
              "        const buttonEl =\n",
              "          document.querySelector('#df-2ab29c37-ed6b-4895-8005-f435971df0ab button.colab-df-convert');\n",
              "        buttonEl.style.display =\n",
              "          google.colab.kernel.accessAllowed ? 'block' : 'none';\n",
              "\n",
              "        async function convertToInteractive(key) {\n",
              "          const element = document.querySelector('#df-2ab29c37-ed6b-4895-8005-f435971df0ab');\n",
              "          const dataTable =\n",
              "            await google.colab.kernel.invokeFunction('convertToInteractive',\n",
              "                                                     [key], {});\n",
              "          if (!dataTable) return;\n",
              "\n",
              "          const docLinkHtml = 'Like what you see? Visit the ' +\n",
              "            '<a target=\"_blank\" href=https://colab.research.google.com/notebooks/data_table.ipynb>data table notebook</a>'\n",
              "            + ' to learn more about interactive tables.';\n",
              "          element.innerHTML = '';\n",
              "          dataTable['output_type'] = 'display_data';\n",
              "          await google.colab.output.renderOutput(dataTable, element);\n",
              "          const docLink = document.createElement('div');\n",
              "          docLink.innerHTML = docLinkHtml;\n",
              "          element.appendChild(docLink);\n",
              "        }\n",
              "      </script>\n",
              "    </div>\n",
              "  </div>\n",
              "  "
            ]
          },
          "metadata": {}
        }
      ]
    },
    {
      "cell_type": "markdown",
      "source": [
        "* 艙等/票價 存活率"
      ],
      "metadata": {
        "id": "WM-lmKL-Bvbw"
      }
    },
    {
      "cell_type": "code",
      "source": [
        "#艙等/票價 存活率\n",
        "plt.figure(num=3)\n",
        "plt.title(\"fare & pclass vs survived\")\n",
        "#alldata['logfare'] = (alldata['fare']+1).map(lambda x : np.log10(x) if x > 0 else 0) #取log\n",
        "#sn.boxplot(x=alldata['fare'],y=alldata['pclass'],hue=alldata['survived'],orient='h',palette=\"Set3\")\n",
        "sn.scatterplot(x=alldata['pclass'], y=alldata['fare'], hue=alldata['survived'])\n",
        "display(pd.pivot_table(alldata, values=['fare'], index=['pclass'], columns=['survived'], aggfunc='median').round(3))"
      ],
      "metadata": {
        "colab": {
          "base_uri": "https://localhost:8080/",
          "height": 484
        },
        "id": "POGgzOihFtk9",
        "outputId": "5f3e1097-41d7-47e0-af10-17f78d11d6cb"
      },
      "execution_count": null,
      "outputs": [
        {
          "output_type": "display_data",
          "data": {
            "text/plain": [
              "           fare        \n",
              "survived    0.0     1.0\n",
              "pclass                 \n",
              "1         44.75  77.958\n",
              "2         13.00  21.000\n",
              "3          8.05   8.517"
            ],
            "text/html": [
              "\n",
              "  <div id=\"df-a8c924fe-ab97-4e7d-bbda-5c3a34540806\">\n",
              "    <div class=\"colab-df-container\">\n",
              "      <div>\n",
              "<style scoped>\n",
              "    .dataframe tbody tr th:only-of-type {\n",
              "        vertical-align: middle;\n",
              "    }\n",
              "\n",
              "    .dataframe tbody tr th {\n",
              "        vertical-align: top;\n",
              "    }\n",
              "\n",
              "    .dataframe thead tr th {\n",
              "        text-align: left;\n",
              "    }\n",
              "\n",
              "    .dataframe thead tr:last-of-type th {\n",
              "        text-align: right;\n",
              "    }\n",
              "</style>\n",
              "<table border=\"1\" class=\"dataframe\">\n",
              "  <thead>\n",
              "    <tr>\n",
              "      <th></th>\n",
              "      <th colspan=\"2\" halign=\"left\">fare</th>\n",
              "    </tr>\n",
              "    <tr>\n",
              "      <th>survived</th>\n",
              "      <th>0.0</th>\n",
              "      <th>1.0</th>\n",
              "    </tr>\n",
              "    <tr>\n",
              "      <th>pclass</th>\n",
              "      <th></th>\n",
              "      <th></th>\n",
              "    </tr>\n",
              "  </thead>\n",
              "  <tbody>\n",
              "    <tr>\n",
              "      <th>1</th>\n",
              "      <td>44.75</td>\n",
              "      <td>77.958</td>\n",
              "    </tr>\n",
              "    <tr>\n",
              "      <th>2</th>\n",
              "      <td>13.00</td>\n",
              "      <td>21.000</td>\n",
              "    </tr>\n",
              "    <tr>\n",
              "      <th>3</th>\n",
              "      <td>8.05</td>\n",
              "      <td>8.517</td>\n",
              "    </tr>\n",
              "  </tbody>\n",
              "</table>\n",
              "</div>\n",
              "      <button class=\"colab-df-convert\" onclick=\"convertToInteractive('df-a8c924fe-ab97-4e7d-bbda-5c3a34540806')\"\n",
              "              title=\"Convert this dataframe to an interactive table.\"\n",
              "              style=\"display:none;\">\n",
              "        \n",
              "  <svg xmlns=\"http://www.w3.org/2000/svg\" height=\"24px\"viewBox=\"0 0 24 24\"\n",
              "       width=\"24px\">\n",
              "    <path d=\"M0 0h24v24H0V0z\" fill=\"none\"/>\n",
              "    <path d=\"M18.56 5.44l.94 2.06.94-2.06 2.06-.94-2.06-.94-.94-2.06-.94 2.06-2.06.94zm-11 1L8.5 8.5l.94-2.06 2.06-.94-2.06-.94L8.5 2.5l-.94 2.06-2.06.94zm10 10l.94 2.06.94-2.06 2.06-.94-2.06-.94-.94-2.06-.94 2.06-2.06.94z\"/><path d=\"M17.41 7.96l-1.37-1.37c-.4-.4-.92-.59-1.43-.59-.52 0-1.04.2-1.43.59L10.3 9.45l-7.72 7.72c-.78.78-.78 2.05 0 2.83L4 21.41c.39.39.9.59 1.41.59.51 0 1.02-.2 1.41-.59l7.78-7.78 2.81-2.81c.8-.78.8-2.07 0-2.86zM5.41 20L4 18.59l7.72-7.72 1.47 1.35L5.41 20z\"/>\n",
              "  </svg>\n",
              "      </button>\n",
              "      \n",
              "  <style>\n",
              "    .colab-df-container {\n",
              "      display:flex;\n",
              "      flex-wrap:wrap;\n",
              "      gap: 12px;\n",
              "    }\n",
              "\n",
              "    .colab-df-convert {\n",
              "      background-color: #E8F0FE;\n",
              "      border: none;\n",
              "      border-radius: 50%;\n",
              "      cursor: pointer;\n",
              "      display: none;\n",
              "      fill: #1967D2;\n",
              "      height: 32px;\n",
              "      padding: 0 0 0 0;\n",
              "      width: 32px;\n",
              "    }\n",
              "\n",
              "    .colab-df-convert:hover {\n",
              "      background-color: #E2EBFA;\n",
              "      box-shadow: 0px 1px 2px rgba(60, 64, 67, 0.3), 0px 1px 3px 1px rgba(60, 64, 67, 0.15);\n",
              "      fill: #174EA6;\n",
              "    }\n",
              "\n",
              "    [theme=dark] .colab-df-convert {\n",
              "      background-color: #3B4455;\n",
              "      fill: #D2E3FC;\n",
              "    }\n",
              "\n",
              "    [theme=dark] .colab-df-convert:hover {\n",
              "      background-color: #434B5C;\n",
              "      box-shadow: 0px 1px 3px 1px rgba(0, 0, 0, 0.15);\n",
              "      filter: drop-shadow(0px 1px 2px rgba(0, 0, 0, 0.3));\n",
              "      fill: #FFFFFF;\n",
              "    }\n",
              "  </style>\n",
              "\n",
              "      <script>\n",
              "        const buttonEl =\n",
              "          document.querySelector('#df-a8c924fe-ab97-4e7d-bbda-5c3a34540806 button.colab-df-convert');\n",
              "        buttonEl.style.display =\n",
              "          google.colab.kernel.accessAllowed ? 'block' : 'none';\n",
              "\n",
              "        async function convertToInteractive(key) {\n",
              "          const element = document.querySelector('#df-a8c924fe-ab97-4e7d-bbda-5c3a34540806');\n",
              "          const dataTable =\n",
              "            await google.colab.kernel.invokeFunction('convertToInteractive',\n",
              "                                                     [key], {});\n",
              "          if (!dataTable) return;\n",
              "\n",
              "          const docLinkHtml = 'Like what you see? Visit the ' +\n",
              "            '<a target=\"_blank\" href=https://colab.research.google.com/notebooks/data_table.ipynb>data table notebook</a>'\n",
              "            + ' to learn more about interactive tables.';\n",
              "          element.innerHTML = '';\n",
              "          dataTable['output_type'] = 'display_data';\n",
              "          await google.colab.output.renderOutput(dataTable, element);\n",
              "          const docLink = document.createElement('div');\n",
              "          docLink.innerHTML = docLinkHtml;\n",
              "          element.appendChild(docLink);\n",
              "        }\n",
              "      </script>\n",
              "    </div>\n",
              "  </div>\n",
              "  "
            ]
          },
          "metadata": {}
        },
        {
          "output_type": "display_data",
          "data": {
            "text/plain": [
              "<Figure size 432x288 with 1 Axes>"
            ],
            "image/png": "[encoded data removed]"
          },
          "metadata": {
            "needs_background": "light"
          }
        }
      ]
    },
    {
      "cell_type": "markdown",
      "source": [
        "* 上船港口存活率"
      ],
      "metadata": {
        "id": "q6zUc4ucByEs"
      }
    },
    {
      "cell_type": "code",
      "source": [
        "#上船港口存活率\n",
        "plt.figure(num=4)\n",
        "plt.title(\"embarked/survived\")\n",
        "sn.countplot(x=alldata['embarked'], hue=alldata['survived'])\n",
        "display(alldata[['embarked', 'survived']].groupby(['embarked'], as_index=False).mean())"
      ],
      "metadata": {
        "colab": {
          "base_uri": "https://localhost:8080/",
          "height": 421
        },
        "id": "m848m-d0GL7g",
        "outputId": "4ce9331b-e502-4135-a288-f984cc56c5e6"
      },
      "execution_count": null,
      "outputs": [
        {
          "output_type": "display_data",
          "data": {
            "text/plain": [
              "  embarked  survived\n",
              "0        C  0.553571\n",
              "1        Q  0.389610\n",
              "2        S  0.336957"
            ],
            "text/html": [
              "\n",
              "  <div id=\"df-da3fda6c-3949-4252-972a-ec61e42e2eb4\">\n",
              "    <div class=\"colab-df-container\">\n",
              "      <div>\n",
              "<style scoped>\n",
              "    .dataframe tbody tr th:only-of-type {\n",
              "        vertical-align: middle;\n",
              "    }\n",
              "\n",
              "    .dataframe tbody tr th {\n",
              "        vertical-align: top;\n",
              "    }\n",
              "\n",
              "    .dataframe thead th {\n",
              "        text-align: right;\n",
              "    }\n",
              "</style>\n",
              "<table border=\"1\" class=\"dataframe\">\n",
              "  <thead>\n",
              "    <tr style=\"text-align: right;\">\n",
              "      <th></th>\n",
              "      <th>embarked</th>\n",
              "      <th>survived</th>\n",
              "    </tr>\n",
              "  </thead>\n",
              "  <tbody>\n",
              "    <tr>\n",
              "      <th>0</th>\n",
              "      <td>C</td>\n",
              "      <td>0.553571</td>\n",
              "    </tr>\n",
              "    <tr>\n",
              "      <th>1</th>\n",
              "      <td>Q</td>\n",
              "      <td>0.389610</td>\n",
              "    </tr>\n",
              "    <tr>\n",
              "      <th>2</th>\n",
              "      <td>S</td>\n",
              "      <td>0.336957</td>\n",
              "    </tr>\n",
              "  </tbody>\n",
              "</table>\n",
              "</div>\n",
              "      <button class=\"colab-df-convert\" onclick=\"convertToInteractive('df-da3fda6c-3949-4252-972a-ec61e42e2eb4')\"\n",
              "              title=\"Convert this dataframe to an interactive table.\"\n",
              "              style=\"display:none;\">\n",
              "        \n",
              "  <svg xmlns=\"http://www.w3.org/2000/svg\" height=\"24px\"viewBox=\"0 0 24 24\"\n",
              "       width=\"24px\">\n",
              "    <path d=\"M0 0h24v24H0V0z\" fill=\"none\"/>\n",
              "    <path d=\"M18.56 5.44l.94 2.06.94-2.06 2.06-.94-2.06-.94-.94-2.06-.94 2.06-2.06.94zm-11 1L8.5 8.5l.94-2.06 2.06-.94-2.06-.94L8.5 2.5l-.94 2.06-2.06.94zm10 10l.94 2.06.94-2.06 2.06-.94-2.06-.94-.94-2.06-.94 2.06-2.06.94z\"/><path d=\"M17.41 7.96l-1.37-1.37c-.4-.4-.92-.59-1.43-.59-.52 0-1.04.2-1.43.59L10.3 9.45l-7.72 7.72c-.78.78-.78 2.05 0 2.83L4 21.41c.39.39.9.59 1.41.59.51 0 1.02-.2 1.41-.59l7.78-7.78 2.81-2.81c.8-.78.8-2.07 0-2.86zM5.41 20L4 18.59l7.72-7.72 1.47 1.35L5.41 20z\"/>\n",
              "  </svg>\n",
              "      </button>\n",
              "      \n",
              "  <style>\n",
              "    .colab-df-container {\n",
              "      display:flex;\n",
              "      flex-wrap:wrap;\n",
              "      gap: 12px;\n",
              "    }\n",
              "\n",
              "    .colab-df-convert {\n",
              "      background-color: #E8F0FE;\n",
              "      border: none;\n",
              "      border-radius: 50%;\n",
              "      cursor: pointer;\n",
              "      display: none;\n",
              "      fill: #1967D2;\n",
              "      height: 32px;\n",
              "      padding: 0 0 0 0;\n",
              "      width: 32px;\n",
              "    }\n",
              "\n",
              "    .colab-df-convert:hover {\n",
              "      background-color: #E2EBFA;\n",
              "      box-shadow: 0px 1px 2px rgba(60, 64, 67, 0.3), 0px 1px 3px 1px rgba(60, 64, 67, 0.15);\n",
              "      fill: #174EA6;\n",
              "    }\n",
              "\n",
              "    [theme=dark] .colab-df-convert {\n",
              "      background-color: #3B4455;\n",
              "      fill: #D2E3FC;\n",
              "    }\n",
              "\n",
              "    [theme=dark] .colab-df-convert:hover {\n",
              "      background-color: #434B5C;\n",
              "      box-shadow: 0px 1px 3px 1px rgba(0, 0, 0, 0.15);\n",
              "      filter: drop-shadow(0px 1px 2px rgba(0, 0, 0, 0.3));\n",
              "      fill: #FFFFFF;\n",
              "    }\n",
              "  </style>\n",
              "\n",
              "      <script>\n",
              "        const buttonEl =\n",
              "          document.querySelector('#df-da3fda6c-3949-4252-972a-ec61e42e2eb4 button.colab-df-convert');\n",
              "        buttonEl.style.display =\n",
              "          google.colab.kernel.accessAllowed ? 'block' : 'none';\n",
              "\n",
              "        async function convertToInteractive(key) {\n",
              "          const element = document.querySelector('#df-da3fda6c-3949-4252-972a-ec61e42e2eb4');\n",
              "          const dataTable =\n",
              "            await google.colab.kernel.invokeFunction('convertToInteractive',\n",
              "                                                     [key], {});\n",
              "          if (!dataTable) return;\n",
              "\n",
              "          const docLinkHtml = 'Like what you see? Visit the ' +\n",
              "            '<a target=\"_blank\" href=https://colab.research.google.com/notebooks/data_table.ipynb>data table notebook</a>'\n",
              "            + ' to learn more about interactive tables.';\n",
              "          element.innerHTML = '';\n",
              "          dataTable['output_type'] = 'display_data';\n",
              "          await google.colab.output.renderOutput(dataTable, element);\n",
              "          const docLink = document.createElement('div');\n",
              "          docLink.innerHTML = docLinkHtml;\n",
              "          element.appendChild(docLink);\n",
              "        }\n",
              "      </script>\n",
              "    </div>\n",
              "  </div>\n",
              "  "
            ]
          },
          "metadata": {}
        },
        {
          "output_type": "display_data",
          "data": {
            "text/plain": [
              "<Figure size 432x288 with 1 Axes>"
            ],
            "image/png": "[encoded data removed]"
          },
          "metadata": {
            "needs_background": "light"
          }
        }
      ]
    },
    {
      "cell_type": "markdown",
      "source": [
        "* 上船口艙等"
      ],
      "metadata": {
        "id": "XFGeRy6YB0zl"
      }
    },
    {
      "cell_type": "code",
      "source": [
        "#上船口艙等\n",
        "plt.figure(num=5)\n",
        "plt.title(\"embarked/pclass\")\n",
        "sn.countplot(x=alldata['embarked'], hue=alldata['pclass'])\n",
        "display(alldata[['embarked', 'pclass']].groupby(['embarked'], as_index=False).mean())"
      ],
      "metadata": {
        "colab": {
          "base_uri": "https://localhost:8080/",
          "height": 421
        },
        "id": "0GGt_9hmGPg4",
        "outputId": "df9ff530-b7d4-4338-e349-0eda7fd6cea5"
      },
      "execution_count": null,
      "outputs": [
        {
          "output_type": "display_data",
          "data": {
            "text/plain": [
              "  embarked    pclass\n",
              "0        C  1.851852\n",
              "1        Q  2.894309\n",
              "2        S  2.347921"
            ],
            "text/html": [
              "\n",
              "  <div id=\"df-1e4f337f-35c8-4772-b875-5f9ef081e3d3\">\n",
              "    <div class=\"colab-df-container\">\n",
              "      <div>\n",
              "<style scoped>\n",
              "    .dataframe tbody tr th:only-of-type {\n",
              "        vertical-align: middle;\n",
              "    }\n",
              "\n",
              "    .dataframe tbody tr th {\n",
              "        vertical-align: top;\n",
              "    }\n",
              "\n",
              "    .dataframe thead th {\n",
              "        text-align: right;\n",
              "    }\n",
              "</style>\n",
              "<table border=\"1\" class=\"dataframe\">\n",
              "  <thead>\n",
              "    <tr style=\"text-align: right;\">\n",
              "      <th></th>\n",
              "      <th>embarked</th>\n",
              "      <th>pclass</th>\n",
              "    </tr>\n",
              "  </thead>\n",
              "  <tbody>\n",
              "    <tr>\n",
              "      <th>0</th>\n",
              "      <td>C</td>\n",
              "      <td>1.851852</td>\n",
              "    </tr>\n",
              "    <tr>\n",
              "      <th>1</th>\n",
              "      <td>Q</td>\n",
              "      <td>2.894309</td>\n",
              "    </tr>\n",
              "    <tr>\n",
              "      <th>2</th>\n",
              "      <td>S</td>\n",
              "      <td>2.347921</td>\n",
              "    </tr>\n",
              "  </tbody>\n",
              "</table>\n",
              "</div>\n",
              "      <button class=\"colab-df-convert\" onclick=\"convertToInteractive('df-1e4f337f-35c8-4772-b875-5f9ef081e3d3')\"\n",
              "              title=\"Convert this dataframe to an interactive table.\"\n",
              "              style=\"display:none;\">\n",
              "        \n",
              "  <svg xmlns=\"http://www.w3.org/2000/svg\" height=\"24px\"viewBox=\"0 0 24 24\"\n",
              "       width=\"24px\">\n",
              "    <path d=\"M0 0h24v24H0V0z\" fill=\"none\"/>\n",
              "    <path d=\"M18.56 5.44l.94 2.06.94-2.06 2.06-.94-2.06-.94-.94-2.06-.94 2.06-2.06.94zm-11 1L8.5 8.5l.94-2.06 2.06-.94-2.06-.94L8.5 2.5l-.94 2.06-2.06.94zm10 10l.94 2.06.94-2.06 2.06-.94-2.06-.94-.94-2.06-.94 2.06-2.06.94z\"/><path d=\"M17.41 7.96l-1.37-1.37c-.4-.4-.92-.59-1.43-.59-.52 0-1.04.2-1.43.59L10.3 9.45l-7.72 7.72c-.78.78-.78 2.05 0 2.83L4 21.41c.39.39.9.59 1.41.59.51 0 1.02-.2 1.41-.59l7.78-7.78 2.81-2.81c.8-.78.8-2.07 0-2.86zM5.41 20L4 18.59l7.72-7.72 1.47 1.35L5.41 20z\"/>\n",
              "  </svg>\n",
              "      </button>\n",
              "      \n",
              "  <style>\n",
              "    .colab-df-container {\n",
              "      display:flex;\n",
              "      flex-wrap:wrap;\n",
              "      gap: 12px;\n",
              "    }\n",
              "\n",
              "    .colab-df-convert {\n",
              "      background-color: #E8F0FE;\n",
              "      border: none;\n",
              "      border-radius: 50%;\n",
              "      cursor: pointer;\n",
              "      display: none;\n",
              "      fill: #1967D2;\n",
              "      height: 32px;\n",
              "      padding: 0 0 0 0;\n",
              "      width: 32px;\n",
              "    }\n",
              "\n",
              "    .colab-df-convert:hover {\n",
              "      background-color: #E2EBFA;\n",
              "      box-shadow: 0px 1px 2px rgba(60, 64, 67, 0.3), 0px 1px 3px 1px rgba(60, 64, 67, 0.15);\n",
              "      fill: #174EA6;\n",
              "    }\n",
              "\n",
              "    [theme=dark] .colab-df-convert {\n",
              "      background-color: #3B4455;\n",
              "      fill: #D2E3FC;\n",
              "    }\n",
              "\n",
              "    [theme=dark] .colab-df-convert:hover {\n",
              "      background-color: #434B5C;\n",
              "      box-shadow: 0px 1px 3px 1px rgba(0, 0, 0, 0.15);\n",
              "      filter: drop-shadow(0px 1px 2px rgba(0, 0, 0, 0.3));\n",
              "      fill: #FFFFFF;\n",
              "    }\n",
              "  </style>\n",
              "\n",
              "      <script>\n",
              "        const buttonEl =\n",
              "          document.querySelector('#df-1e4f337f-35c8-4772-b875-5f9ef081e3d3 button.colab-df-convert');\n",
              "        buttonEl.style.display =\n",
              "          google.colab.kernel.accessAllowed ? 'block' : 'none';\n",
              "\n",
              "        async function convertToInteractive(key) {\n",
              "          const element = document.querySelector('#df-1e4f337f-35c8-4772-b875-5f9ef081e3d3');\n",
              "          const dataTable =\n",
              "            await google.colab.kernel.invokeFunction('convertToInteractive',\n",
              "                                                     [key], {});\n",
              "          if (!dataTable) return;\n",
              "\n",
              "          const docLinkHtml = 'Like what you see? Visit the ' +\n",
              "            '<a target=\"_blank\" href=https://colab.research.google.com/notebooks/data_table.ipynb>data table notebook</a>'\n",
              "            + ' to learn more about interactive tables.';\n",
              "          element.innerHTML = '';\n",
              "          dataTable['output_type'] = 'display_data';\n",
              "          await google.colab.output.renderOutput(dataTable, element);\n",
              "          const docLink = document.createElement('div');\n",
              "          docLink.innerHTML = docLinkHtml;\n",
              "          element.appendChild(docLink);\n",
              "        }\n",
              "      </script>\n",
              "    </div>\n",
              "  </div>\n",
              "  "
            ]
          },
          "metadata": {}
        },
        {
          "output_type": "display_data",
          "data": {
            "text/plain": [
              "<Figure size 432x288 with 1 Axes>"
            ],
            "image/png": "[encoded data removed]"
          },
          "metadata": {
            "needs_background": "light"
          }
        }
      ]
    },
    {
      "cell_type": "markdown",
      "source": [
        "* 姓名長度存活率"
      ],
      "metadata": {
        "id": "oq3LehQyB5um"
      }
    },
    {
      "cell_type": "code",
      "source": [
        "#姓名長度存活率\n",
        "namelen = []\n",
        "for names in alldata['name']:\n",
        "    namelen.append(len(names.split()))\n",
        "alldata['namelen'] = namelen\n",
        "plt.figure(num=6)\n",
        "plt.title(\"namelen/survived\")\n",
        "sn.countplot(x=alldata['namelen'], hue=alldata['survived'])\n",
        "display(alldata[['namelen', 'survived']].groupby(['namelen'], as_index=False).mean())"
      ],
      "metadata": {
        "colab": {
          "base_uri": "https://localhost:8080/",
          "height": 578
        },
        "id": "91QZL0J9GXHt",
        "outputId": "0052c02b-60ef-4f32-81d8-bf0224556ba2"
      },
      "execution_count": null,
      "outputs": [
        {
          "output_type": "display_data",
          "data": {
            "text/plain": [
              "   namelen  survived\n",
              "0        3  0.291803\n",
              "1        4  0.341902\n",
              "2        5  0.427083\n",
              "3        6  0.769231\n",
              "4        7  0.842105\n",
              "5        8  0.555556\n",
              "6        9  1.000000\n",
              "7       14  1.000000"
            ],
            "text/html": [
              "\n",
              "  <div id=\"df-eaec100f-bcb6-4fc9-b6c7-a2b681db5b15\">\n",
              "    <div class=\"colab-df-container\">\n",
              "      <div>\n",
              "<style scoped>\n",
              "    .dataframe tbody tr th:only-of-type {\n",
              "        vertical-align: middle;\n",
              "    }\n",
              "\n",
              "    .dataframe tbody tr th {\n",
              "        vertical-align: top;\n",
              "    }\n",
              "\n",
              "    .dataframe thead th {\n",
              "        text-align: right;\n",
              "    }\n",
              "</style>\n",
              "<table border=\"1\" class=\"dataframe\">\n",
              "  <thead>\n",
              "    <tr style=\"text-align: right;\">\n",
              "      <th></th>\n",
              "      <th>namelen</th>\n",
              "      <th>survived</th>\n",
              "    </tr>\n",
              "  </thead>\n",
              "  <tbody>\n",
              "    <tr>\n",
              "      <th>0</th>\n",
              "      <td>3</td>\n",
              "      <td>0.291803</td>\n",
              "    </tr>\n",
              "    <tr>\n",
              "      <th>1</th>\n",
              "      <td>4</td>\n",
              "      <td>0.341902</td>\n",
              "    </tr>\n",
              "    <tr>\n",
              "      <th>2</th>\n",
              "      <td>5</td>\n",
              "      <td>0.427083</td>\n",
              "    </tr>\n",
              "    <tr>\n",
              "      <th>3</th>\n",
              "      <td>6</td>\n",
              "      <td>0.769231</td>\n",
              "    </tr>\n",
              "    <tr>\n",
              "      <th>4</th>\n",
              "      <td>7</td>\n",
              "      <td>0.842105</td>\n",
              "    </tr>\n",
              "    <tr>\n",
              "      <th>5</th>\n",
              "      <td>8</td>\n",
              "      <td>0.555556</td>\n",
              "    </tr>\n",
              "    <tr>\n",
              "      <th>6</th>\n",
              "      <td>9</td>\n",
              "      <td>1.000000</td>\n",
              "    </tr>\n",
              "    <tr>\n",
              "      <th>7</th>\n",
              "      <td>14</td>\n",
              "      <td>1.000000</td>\n",
              "    </tr>\n",
              "  </tbody>\n",
              "</table>\n",
              "</div>\n",
              "      <button class=\"colab-df-convert\" onclick=\"convertToInteractive('df-eaec100f-bcb6-4fc9-b6c7-a2b681db5b15')\"\n",
              "              title=\"Convert this dataframe to an interactive table.\"\n",
              "              style=\"display:none;\">\n",
              "        \n",
              "  <svg xmlns=\"http://www.w3.org/2000/svg\" height=\"24px\"viewBox=\"0 0 24 24\"\n",
              "       width=\"24px\">\n",
              "    <path d=\"M0 0h24v24H0V0z\" fill=\"none\"/>\n",
              "    <path d=\"M18.56 5.44l.94 2.06.94-2.06 2.06-.94-2.06-.94-.94-2.06-.94 2.06-2.06.94zm-11 1L8.5 8.5l.94-2.06 2.06-.94-2.06-.94L8.5 2.5l-.94 2.06-2.06.94zm10 10l.94 2.06.94-2.06 2.06-.94-2.06-.94-.94-2.06-.94 2.06-2.06.94z\"/><path d=\"M17.41 7.96l-1.37-1.37c-.4-.4-.92-.59-1.43-.59-.52 0-1.04.2-1.43.59L10.3 9.45l-7.72 7.72c-.78.78-.78 2.05 0 2.83L4 21.41c.39.39.9.59 1.41.59.51 0 1.02-.2 1.41-.59l7.78-7.78 2.81-2.81c.8-.78.8-2.07 0-2.86zM5.41 20L4 18.59l7.72-7.72 1.47 1.35L5.41 20z\"/>\n",
              "  </svg>\n",
              "      </button>\n",
              "      \n",
              "  <style>\n",
              "    .colab-df-container {\n",
              "      display:flex;\n",
              "      flex-wrap:wrap;\n",
              "      gap: 12px;\n",
              "    }\n",
              "\n",
              "    .colab-df-convert {\n",
              "      background-color: #E8F0FE;\n",
              "      border: none;\n",
              "      border-radius: 50%;\n",
              "      cursor: pointer;\n",
              "      display: none;\n",
              "      fill: #1967D2;\n",
              "      height: 32px;\n",
              "      padding: 0 0 0 0;\n",
              "      width: 32px;\n",
              "    }\n",
              "\n",
              "    .colab-df-convert:hover {\n",
              "      background-color: #E2EBFA;\n",
              "      box-shadow: 0px 1px 2px rgba(60, 64, 67, 0.3), 0px 1px 3px 1px rgba(60, 64, 67, 0.15);\n",
              "      fill: #174EA6;\n",
              "    }\n",
              "\n",
              "    [theme=dark] .colab-df-convert {\n",
              "      background-color: #3B4455;\n",
              "      fill: #D2E3FC;\n",
              "    }\n",
              "\n",
              "    [theme=dark] .colab-df-convert:hover {\n",
              "      background-color: #434B5C;\n",
              "      box-shadow: 0px 1px 3px 1px rgba(0, 0, 0, 0.15);\n",
              "      filter: drop-shadow(0px 1px 2px rgba(0, 0, 0, 0.3));\n",
              "      fill: #FFFFFF;\n",
              "    }\n",
              "  </style>\n",
              "\n",
              "      <script>\n",
              "        const buttonEl =\n",
              "          document.querySelector('#df-eaec100f-bcb6-4fc9-b6c7-a2b681db5b15 button.colab-df-convert');\n",
              "        buttonEl.style.display =\n",
              "          google.colab.kernel.accessAllowed ? 'block' : 'none';\n",
              "\n",
              "        async function convertToInteractive(key) {\n",
              "          const element = document.querySelector('#df-eaec100f-bcb6-4fc9-b6c7-a2b681db5b15');\n",
              "          const dataTable =\n",
              "            await google.colab.kernel.invokeFunction('convertToInteractive',\n",
              "                                                     [key], {});\n",
              "          if (!dataTable) return;\n",
              "\n",
              "          const docLinkHtml = 'Like what you see? Visit the ' +\n",
              "            '<a target=\"_blank\" href=https://colab.research.google.com/notebooks/data_table.ipynb>data table notebook</a>'\n",
              "            + ' to learn more about interactive tables.';\n",
              "          element.innerHTML = '';\n",
              "          dataTable['output_type'] = 'display_data';\n",
              "          await google.colab.output.renderOutput(dataTable, element);\n",
              "          const docLink = document.createElement('div');\n",
              "          docLink.innerHTML = docLinkHtml;\n",
              "          element.appendChild(docLink);\n",
              "        }\n",
              "      </script>\n",
              "    </div>\n",
              "  </div>\n",
              "  "
            ]
          },
          "metadata": {}
        },
        {
          "output_type": "display_data",
          "data": {
            "text/plain": [
              "<Figure size 432x288 with 1 Axes>"
            ],
            "image/png": "[encoded data removed]"
          },
          "metadata": {
            "needs_background": "light"
          }
        }
      ]
    },
    {
      "cell_type": "markdown",
      "source": [
        "* 家庭人數存活率"
      ],
      "metadata": {
        "id": "kBbTq_q8B8IP"
      }
    },
    {
      "cell_type": "code",
      "source": [
        "#家庭人數存活率\n",
        "plt.figure(num=7)\n",
        "plt.title(\"family/survived\")\n",
        "alldata['family'] = alldata['sibsp']+alldata['parch']\n",
        "sn.countplot(x=alldata['family'], hue=alldata['survived'])\n",
        "display(alldata[['family', 'survived']].groupby(['family'], as_index=False).mean())"
      ],
      "metadata": {
        "colab": {
          "base_uri": "https://localhost:8080/",
          "height": 610
        },
        "id": "hFLiFD-AGo3d",
        "outputId": "b127c26b-2e4c-4bd7-b008-b5f518ad55fd"
      },
      "execution_count": null,
      "outputs": [
        {
          "output_type": "display_data",
          "data": {
            "text/plain": [
              "   family  survived\n",
              "0       0  0.303538\n",
              "1       1  0.552795\n",
              "2       2  0.578431\n",
              "3       3  0.724138\n",
              "4       4  0.200000\n",
              "5       5  0.136364\n",
              "6       6  0.333333\n",
              "7       7  0.000000\n",
              "8      10  0.000000"
            ],
            "text/html": [
              "\n",
              "  <div id=\"df-e08fceca-6e62-493d-aa35-ee57aa612cbb\">\n",
              "    <div class=\"colab-df-container\">\n",
              "      <div>\n",
              "<style scoped>\n",
              "    .dataframe tbody tr th:only-of-type {\n",
              "        vertical-align: middle;\n",
              "    }\n",
              "\n",
              "    .dataframe tbody tr th {\n",
              "        vertical-align: top;\n",
              "    }\n",
              "\n",
              "    .dataframe thead th {\n",
              "        text-align: right;\n",
              "    }\n",
              "</style>\n",
              "<table border=\"1\" class=\"dataframe\">\n",
              "  <thead>\n",
              "    <tr style=\"text-align: right;\">\n",
              "      <th></th>\n",
              "      <th>family</th>\n",
              "      <th>survived</th>\n",
              "    </tr>\n",
              "  </thead>\n",
              "  <tbody>\n",
              "    <tr>\n",
              "      <th>0</th>\n",
              "      <td>0</td>\n",
              "      <td>0.303538</td>\n",
              "    </tr>\n",
              "    <tr>\n",
              "      <th>1</th>\n",
              "      <td>1</td>\n",
              "      <td>0.552795</td>\n",
              "    </tr>\n",
              "    <tr>\n",
              "      <th>2</th>\n",
              "      <td>2</td>\n",
              "      <td>0.578431</td>\n",
              "    </tr>\n",
              "    <tr>\n",
              "      <th>3</th>\n",
              "      <td>3</td>\n",
              "      <td>0.724138</td>\n",
              "    </tr>\n",
              "    <tr>\n",
              "      <th>4</th>\n",
              "      <td>4</td>\n",
              "      <td>0.200000</td>\n",
              "    </tr>\n",
              "    <tr>\n",
              "      <th>5</th>\n",
              "      <td>5</td>\n",
              "      <td>0.136364</td>\n",
              "    </tr>\n",
              "    <tr>\n",
              "      <th>6</th>\n",
              "      <td>6</td>\n",
              "      <td>0.333333</td>\n",
              "    </tr>\n",
              "    <tr>\n",
              "      <th>7</th>\n",
              "      <td>7</td>\n",
              "      <td>0.000000</td>\n",
              "    </tr>\n",
              "    <tr>\n",
              "      <th>8</th>\n",
              "      <td>10</td>\n",
              "      <td>0.000000</td>\n",
              "    </tr>\n",
              "  </tbody>\n",
              "</table>\n",
              "</div>\n",
              "      <button class=\"colab-df-convert\" onclick=\"convertToInteractive('df-e08fceca-6e62-493d-aa35-ee57aa612cbb')\"\n",
              "              title=\"Convert this dataframe to an interactive table.\"\n",
              "              style=\"display:none;\">\n",
              "        \n",
              "  <svg xmlns=\"http://www.w3.org/2000/svg\" height=\"24px\"viewBox=\"0 0 24 24\"\n",
              "       width=\"24px\">\n",
              "    <path d=\"M0 0h24v24H0V0z\" fill=\"none\"/>\n",
              "    <path d=\"M18.56 5.44l.94 2.06.94-2.06 2.06-.94-2.06-.94-.94-2.06-.94 2.06-2.06.94zm-11 1L8.5 8.5l.94-2.06 2.06-.94-2.06-.94L8.5 2.5l-.94 2.06-2.06.94zm10 10l.94 2.06.94-2.06 2.06-.94-2.06-.94-.94-2.06-.94 2.06-2.06.94z\"/><path d=\"M17.41 7.96l-1.37-1.37c-.4-.4-.92-.59-1.43-.59-.52 0-1.04.2-1.43.59L10.3 9.45l-7.72 7.72c-.78.78-.78 2.05 0 2.83L4 21.41c.39.39.9.59 1.41.59.51 0 1.02-.2 1.41-.59l7.78-7.78 2.81-2.81c.8-.78.8-2.07 0-2.86zM5.41 20L4 18.59l7.72-7.72 1.47 1.35L5.41 20z\"/>\n",
              "  </svg>\n",
              "      </button>\n",
              "      \n",
              "  <style>\n",
              "    .colab-df-container {\n",
              "      display:flex;\n",
              "      flex-wrap:wrap;\n",
              "      gap: 12px;\n",
              "    }\n",
              "\n",
              "    .colab-df-convert {\n",
              "      background-color: #E8F0FE;\n",
              "      border: none;\n",
              "      border-radius: 50%;\n",
              "      cursor: pointer;\n",
              "      display: none;\n",
              "      fill: #1967D2;\n",
              "      height: 32px;\n",
              "      padding: 0 0 0 0;\n",
              "      width: 32px;\n",
              "    }\n",
              "\n",
              "    .colab-df-convert:hover {\n",
              "      background-color: #E2EBFA;\n",
              "      box-shadow: 0px 1px 2px rgba(60, 64, 67, 0.3), 0px 1px 3px 1px rgba(60, 64, 67, 0.15);\n",
              "      fill: #174EA6;\n",
              "    }\n",
              "\n",
              "    [theme=dark] .colab-df-convert {\n",
              "      background-color: #3B4455;\n",
              "      fill: #D2E3FC;\n",
              "    }\n",
              "\n",
              "    [theme=dark] .colab-df-convert:hover {\n",
              "      background-color: #434B5C;\n",
              "      box-shadow: 0px 1px 3px 1px rgba(0, 0, 0, 0.15);\n",
              "      filter: drop-shadow(0px 1px 2px rgba(0, 0, 0, 0.3));\n",
              "      fill: #FFFFFF;\n",
              "    }\n",
              "  </style>\n",
              "\n",
              "      <script>\n",
              "        const buttonEl =\n",
              "          document.querySelector('#df-e08fceca-6e62-493d-aa35-ee57aa612cbb button.colab-df-convert');\n",
              "        buttonEl.style.display =\n",
              "          google.colab.kernel.accessAllowed ? 'block' : 'none';\n",
              "\n",
              "        async function convertToInteractive(key) {\n",
              "          const element = document.querySelector('#df-e08fceca-6e62-493d-aa35-ee57aa612cbb');\n",
              "          const dataTable =\n",
              "            await google.colab.kernel.invokeFunction('convertToInteractive',\n",
              "                                                     [key], {});\n",
              "          if (!dataTable) return;\n",
              "\n",
              "          const docLinkHtml = 'Like what you see? Visit the ' +\n",
              "            '<a target=\"_blank\" href=https://colab.research.google.com/notebooks/data_table.ipynb>data table notebook</a>'\n",
              "            + ' to learn more about interactive tables.';\n",
              "          element.innerHTML = '';\n",
              "          dataTable['output_type'] = 'display_data';\n",
              "          await google.colab.output.renderOutput(dataTable, element);\n",
              "          const docLink = document.createElement('div');\n",
              "          docLink.innerHTML = docLinkHtml;\n",
              "          element.appendChild(docLink);\n",
              "        }\n",
              "      </script>\n",
              "    </div>\n",
              "  </div>\n",
              "  "
            ]
          },
          "metadata": {}
        },
        {
          "output_type": "display_data",
          "data": {
            "text/plain": [
              "<Figure size 432x288 with 1 Axes>"
            ],
            "image/png": "[encoded data removed]"
          },
          "metadata": {
            "needs_background": "light"
          }
        }
      ]
    },
    {
      "cell_type": "markdown",
      "source": [
        "* 年齡特徵"
      ],
      "metadata": {
        "id": "QTuAZ_b1CDvE"
      }
    },
    {
      "cell_type": "code",
      "source": [
        "#年齡特徵\n",
        "plt.figure(num=8)\n",
        "sn.scatterplot(x=alldata['age'], y=alldata['fare'], hue=alldata['survived'])\n",
        "plt.figure(num=9)\n",
        "sn.histplot(x=alldata['age'], hue=alldata['survived'], bins=10)\n",
        "alldata['haveage'] = alldata['age'].isnull().map(lambda x: 0 if x == True else 1)\n",
        "fig, [ax1,ax2] = plt.subplots(1, 2)\n",
        "ax1 = sn.countplot(x=alldata['pclass'], hue=alldata['haveage'],ax=ax1)\n",
        "ax2 = sn.countplot(x=alldata['sex'], hue=alldata['haveage'],ax=ax2)"
      ],
      "metadata": {
        "colab": {
          "base_uri": "https://localhost:8080/",
          "height": 803
        },
        "id": "HCTPcrBwHnyq",
        "outputId": "b9f71aed-9473-4b83-9ef3-da0382450c1c"
      },
      "execution_count": null,
      "outputs": [
        {
          "output_type": "display_data",
          "data": {
            "text/plain": [
              "<Figure size 432x288 with 1 Axes>"
            ],
            "image/png": "[encoded data removed]"
          },
          "metadata": {
            "needs_background": "light"
          }
        },
        {
          "output_type": "display_data",
          "data": {
            "text/plain": [
              "<Figure size 432x288 with 1 Axes>"
            ],
            "image/png": "[encoded data removed]"
          },
          "metadata": {
            "needs_background": "light"
          }
        },
        {
          "output_type": "display_data",
          "data": {
            "text/plain": [
              "<Figure size 432x288 with 2 Axes>"
            ],
            "image/png": "[encoded data removed]"
          },
          "metadata": {
            "needs_background": "light"
          }
        }
      ]
    },
    {
      "cell_type": "markdown",
      "source": [
        "* 年齡特徵"
      ],
      "metadata": {
        "id": "Z8DrAb8rB_1z"
      }
    },
    {
      "cell_type": "code",
      "source": [
        "haveage_s = ((alldata['haveage'] == 1) & (alldata['pclass'] != 3) & (alldata['survived'] == 1))\n",
        "haveage_d = ((alldata['haveage'] == 1) & (alldata['pclass'] != 3) & (alldata['survived'] == 0))\n",
        "fig, ax = plt.subplots()\n",
        "plt.title(\"age/survived in pclass1.2\")\n",
        "ax = sn.distplot(alldata.loc[haveage_s, 'age'], kde=False, bins=10, label='survived')\n",
        "ax = sn.distplot(alldata.loc[haveage_d, 'age'], kde=False, bins=10, label='dead')\n",
        "ax.legend()"
      ],
      "metadata": {
        "colab": {
          "base_uri": "https://localhost:8080/",
          "height": 367
        },
        "id": "e-Y4HLmnPIzR",
        "outputId": "d359ceae-d638-411e-d9c2-892fe33fa05c"
      },
      "execution_count": null,
      "outputs": [
        {
          "output_type": "stream",
          "name": "stderr",
          "text": [
            "/usr/local/lib/python3.7/dist-packages/seaborn/distributions.py:2619: FutureWarning: `distplot` is a deprecated function and will be removed in a future version. Please adapt your code to use either `displot` (a figure-level function with similar flexibility) or `histplot` (an axes-level function for histograms).\n",
            "  warnings.warn(msg, FutureWarning)\n"
          ]
        },
        {
          "output_type": "execute_result",
          "data": {
            "text/plain": [
              "<matplotlib.legend.Legend at 0x7f2df1de4050>"
            ]
          },
          "metadata": {},
          "execution_count": 149
        },
        {
          "output_type": "display_data",
          "data": {
            "text/plain": [
              "<Figure size 432x288 with 1 Axes>"
            ],
            "image/png": "[encoded data removed]"
          },
          "metadata": {
            "needs_background": "light"
          }
        }
      ]
    },
    {
      "cell_type": "markdown",
      "source": [
        "## 4. 資料清洗"
      ],
      "metadata": {
        "id": "XcTnWKbhlK0a"
      }
    },
    {
      "cell_type": "markdown",
      "source": [
        "將空欄位依照剛剛觀察到的特性進行填值"
      ],
      "metadata": {
        "id": "Ig6jycFgCnaF"
      }
    },
    {
      "cell_type": "code",
      "source": [
        "#年齡依照稱謂的平均值填值\n",
        "alldata['title'] = alldata['name'].str.extract(' ([A-Za-z]+)\\.', expand=False)\n",
        "alldata['title'] = alldata['title'].replace(['Capt', 'Col', 'Countess', 'Don', 'Dr', 'Dona', 'Jonkheer', 'Major', 'Rev', 'Sir'], 'Rare')\n",
        "alldata['title'] = alldata['title'].replace(['Mlle', 'Ms', 'Mme'], 'Miss')\n",
        "alldata['title'] = alldata['title'].replace(['Lady'], 'Mrs')\n",
        "alldata['title'] = alldata['title'].map({\"Mr\":0, \"Rare\":1, \"Master\":2, \"Miss\":3, \"Mrs\":4})\n",
        "meamage = alldata.groupby('title')['age'].median()\n",
        "for i in range(0,5):\n",
        "    alldata.loc[(alldata['age'].isnull()) & (alldata['title'] == i), 'age'] = meamage[i]\n",
        "\n",
        "#姓名欄改為姓名長度\n",
        "alldata['name'] = alldata['namelen'] \n",
        "\n",
        "#性別欄改為0和1(0女1男)\n",
        "alldata[\"sex\"] = [1 if i == \"male\" else 0 for i in alldata[\"sex\"]]\n",
        "\n",
        "#票價空值用平均數填值並取log\n",
        "alldata[\"fare\"] = alldata[\"fare\"].fillna(alldata[\"fare\"].mean())\n",
        "alldata['fare'] = (alldata['fare']+1).map(lambda x : np.log10(x) if x>0 else 0)\n",
        "\n",
        "#登船口改為0、1、2(0:S、1:Q、2:C)並將空值填為0(S)\n",
        "alldata[\"embarked\"] = [0 if i == \"S\" else i for i in alldata[\"embarked\"]]\n",
        "alldata[\"embarked\"] = [1 if i == \"Q\" else i for i in alldata[\"embarked\"]]\n",
        "alldata[\"embarked\"] = [2 if i == \"C\" else i for i in alldata[\"embarked\"]]\n",
        "alldata[\"embarked\"] = alldata[\"embarked\"].fillna(0)\n",
        "\n",
        "#將不要的特徵切掉\n",
        "alldata = alldata.drop('cabin',axis=1)\n",
        "alldata = alldata.drop('ticket',axis=1)\n",
        "alldata = alldata.drop('haveage',axis=1)\n",
        "alldata = alldata.drop('parch',axis=1)\n",
        "alldata = alldata.drop('sibsp',axis=1)\n",
        "alldata = alldata.drop('namelen',axis=1)\n",
        "\n",
        "#檢視資料\n",
        "print(alldata.head())\n",
        "all_data_miss = alldata.isnull().sum()\n",
        "print(all_data_miss[1:15])"
      ],
      "metadata": {
        "colab": {
          "base_uri": "https://localhost:8080/"
        },
        "id": "hFuppz9ilMYZ",
        "outputId": "d435bce1-4ea3-4312-ae11-a398ed61c750"
      },
      "execution_count": null,
      "outputs": [
        {
          "output_type": "stream",
          "name": "stdout",
          "text": [
            "   survived  pclass  name  sex   age      fare  embarked  family  title\n",
            "0       0.0       3     4    1  22.0  0.916454       0.0       1      0\n",
            "1       1.0       1     7    0  38.0  1.859038       2.0       1      4\n",
            "2       1.0       3     3    0  26.0  0.950608       0.0       0      3\n",
            "3       1.0       1     7    0  35.0  1.733197       0.0       1      4\n",
            "4       0.0       3     4    1  35.0  0.956649       0.0       0      0\n",
            "pclass      0\n",
            "name        0\n",
            "sex         0\n",
            "age         0\n",
            "fare        0\n",
            "embarked    0\n",
            "family      0\n",
            "title       0\n",
            "dtype: int64\n"
          ]
        }
      ]
    },
    {
      "cell_type": "code",
      "source": [
        "#特徵相關熱點圖\n",
        "cols = ['survived', 'pclass', 'name', 'sex', 'age', 'family', 'fare', 'embarked','title']\n",
        "alldata_corr = alldata[cols].corr()\n",
        "print(alldata_corr)\n",
        "plt.figure(num=12,figsize=[15,10])\n",
        "\n",
        "plt.title(\"feature/corr\")\n",
        "sn.heatmap(alldata_corr,annot=True)"
      ],
      "metadata": {
        "colab": {
          "base_uri": "https://localhost:8080/",
          "height": 989
        },
        "id": "dpH9BM8-lPmu",
        "outputId": "2c71c72f-b3ae-4c0b-ce84-341921f3dfe6"
      },
      "execution_count": null,
      "outputs": [
        {
          "output_type": "stream",
          "name": "stdout",
          "text": [
            "          survived    pclass      name       sex       age    family  \\\n",
            "survived  1.000000 -0.338481  0.276512 -0.543351 -0.070677  0.016639   \n",
            "pclass   -0.338481  1.000000 -0.257902  0.124617 -0.391870  0.050027   \n",
            "name      0.276512 -0.257902  1.000000 -0.401644  0.131479  0.196947   \n",
            "sex      -0.543351  0.124617 -0.401644  1.000000  0.059747 -0.188583   \n",
            "age      -0.070677 -0.391870  0.131479  0.059747  1.000000 -0.211435   \n",
            "family    0.016639  0.050027  0.196947 -0.188583 -0.211435  1.000000   \n",
            "fare      0.329862 -0.685333  0.281604 -0.249907  0.186800  0.381462   \n",
            "embarked  0.167675 -0.185479  0.000610 -0.097960  0.059096 -0.067598   \n",
            "title     0.567132 -0.132502  0.493188 -0.945345 -0.092112  0.290957   \n",
            "\n",
            "              fare  embarked     title  \n",
            "survived  0.329862  0.167675  0.567132  \n",
            "pclass   -0.685333 -0.185479 -0.132502  \n",
            "name      0.281604  0.000610  0.493188  \n",
            "sex      -0.249907 -0.097960 -0.945345  \n",
            "age       0.186800  0.059096 -0.092112  \n",
            "family    0.381462 -0.067598  0.290957  \n",
            "fare      1.000000  0.211711  0.291162  \n",
            "embarked  0.211711  1.000000  0.096282  \n",
            "title     0.291162  0.096282  1.000000  \n"
          ]
        },
        {
          "output_type": "execute_result",
          "data": {
            "text/plain": [
              "<matplotlib.axes._subplots.AxesSubplot at 0x7f2df895ab10>"
            ]
          },
          "metadata": {},
          "execution_count": 151
        },
        {
          "output_type": "display_data",
          "data": {
            "text/plain": [
              "<Figure size 1080x720 with 2 Axes>"
            ],
            "image/png": "[encoded data removed]"
          },
          "metadata": {
            "needs_background": "light"
          }
        }
      ]
    },
    {
      "cell_type": "markdown",
      "source": [
        "## 5. 帶入各模型並計算準確度(依準確度高低決定之後要優化的模型)\n",
        "\n",
        "\n"
      ],
      "metadata": {
        "id": "ICECcdKymyf9"
      }
    },
    {
      "cell_type": "code",
      "source": [
        "#獨立資料\n",
        "Y_train = train_data['survived']\n",
        "X_train = alldata.drop(\"survived\", axis=1)\n",
        "X_test = X_train.iloc[891:]\n",
        "X_train = X_train.head(891)\n",
        "print(\"ok\")\n",
        "print(X_test)\n",
        "print(X_train)"
      ],
      "metadata": {
        "colab": {
          "base_uri": "https://localhost:8080/"
        },
        "id": "kO-QpoxUmyRp",
        "outputId": "c288e174-9117-4dd7-8045-296caf87b869"
      },
      "execution_count": null,
      "outputs": [
        {
          "output_type": "stream",
          "name": "stdout",
          "text": [
            "ok\n",
            "      pclass  name  sex   age      fare  embarked  family  title\n",
            "891        3     3    1  34.5  0.945921       1.0       0      0\n",
            "892        3     5    0  47.0  0.903090       0.0       1      4\n",
            "893        2     4    1  62.0  1.028876       1.0       0      0\n",
            "894        3     3    1  27.0  0.985090       0.0       0      0\n",
            "895        3     6    0  22.0  1.123443       0.0       2      4\n",
            "...      ...   ...  ...   ...       ...       ...     ...    ...\n",
            "1304       3     3    1  29.0  0.956649       0.0       0      0\n",
            "1305       1     5    0  39.0  2.040998       2.0       0      1\n",
            "1306       3     4    1  38.5  0.916454       0.0       0      0\n",
            "1307       3     3    1  29.0  0.956649       0.0       0      0\n",
            "1308       3     4    1   4.0  1.368441       2.0       2      2\n",
            "\n",
            "[418 rows x 8 columns]\n",
            "     pclass  name  sex   age      fare  embarked  family  title\n",
            "0         3     4    1  22.0  0.916454       0.0       1      0\n",
            "1         1     7    0  38.0  1.859038       2.0       1      4\n",
            "2         3     3    0  26.0  0.950608       0.0       0      3\n",
            "3         1     7    0  35.0  1.733197       0.0       1      4\n",
            "4         3     4    1  35.0  0.956649       0.0       0      0\n",
            "..      ...   ...  ...   ...       ...       ...     ...    ...\n",
            "886       2     3    1  27.0  1.146128       0.0       0      1\n",
            "887       1     4    0  19.0  1.491362       0.0       0      3\n",
            "888       3     5    0  22.0  1.388279       0.0       3      3\n",
            "889       1     4    1  26.0  1.491362       2.0       0      0\n",
            "890       3     3    1  32.0  0.942008       1.0       0      0\n",
            "\n",
            "[891 rows x 8 columns]\n"
          ]
        }
      ]
    },
    {
      "cell_type": "code",
      "source": [
        "#決策樹\n",
        "decision_tree = DecisionTreeClassifier()\n",
        "decision_tree.fit(X_train, Y_train)\n",
        "Y_pred = decision_tree.predict(X_test)\n",
        "acc_decision_tree = round(decision_tree.score(X_train, Y_train), 3)\n",
        "print(acc_decision_tree)"
      ],
      "metadata": {
        "colab": {
          "base_uri": "https://localhost:8080/"
        },
        "id": "6FpYodc5lnCc",
        "outputId": "d6c5ee5d-8175-4aa8-8b55-3f9e592e3066"
      },
      "execution_count": null,
      "outputs": [
        {
          "output_type": "stream",
          "name": "stdout",
          "text": [
            "0.984\n"
          ]
        }
      ]
    },
    {
      "cell_type": "code",
      "source": [
        "#隨機森林\n",
        "random_forest = RandomForestClassifier()#oob_score=True)\n",
        "random_forest.fit(X_train, Y_train)\n",
        "Y_pred = random_forest.predict(X_test)\n",
        "random_forest.score(X_train, Y_train)\n",
        "acc_random_forest = round(random_forest.score(X_train, Y_train), 3)\n",
        "#oobscore = round(random_forest.oob_score_,3)\n",
        "#print(\"oobscore:\", oobscore)\n",
        "print(acc_random_forest)"
      ],
      "metadata": {
        "colab": {
          "base_uri": "https://localhost:8080/"
        },
        "id": "Kv-QRCBnnZVf",
        "outputId": "8e157560-a012-4afa-c929-eb26e195aa02"
      },
      "execution_count": null,
      "outputs": [
        {
          "output_type": "stream",
          "name": "stdout",
          "text": [
            "oobscore: 0.818\n",
            "0.984\n"
          ]
        }
      ]
    },
    {
      "cell_type": "code",
      "source": [
        "#邏輯回歸\n",
        "logreg = LogisticRegression(max_iter=200)\n",
        "logreg.fit(X_train, Y_train)\n",
        "Y_pred = logreg.predict(X_test)\n",
        "acc_log = round(logreg.score(X_train, Y_train), 3)\n",
        "print(acc_log)"
      ],
      "metadata": {
        "colab": {
          "base_uri": "https://localhost:8080/"
        },
        "id": "liCqIjLYnb_I",
        "outputId": "76d9f6ae-a52c-4a21-f681-5b96b9d62edc"
      },
      "execution_count": null,
      "outputs": [
        {
          "output_type": "stream",
          "name": "stdout",
          "text": [
            "0.828\n"
          ]
        }
      ]
    },
    {
      "cell_type": "code",
      "source": [
        "#SVM\n",
        "linear_svc = LinearSVC()\n",
        "linear_svc.fit(X_train, Y_train)\n",
        "Y_pred = linear_svc.predict(X_test)\n",
        "acc_linear_svc = round(linear_svc.score(X_train, Y_train), 3)\n",
        "print(acc_linear_svc)"
      ],
      "metadata": {
        "colab": {
          "base_uri": "https://localhost:8080/"
        },
        "id": "Lg-M5qpVndVG",
        "outputId": "a0709108-29aa-4236-aeb2-76f03a85c472"
      },
      "execution_count": null,
      "outputs": [
        {
          "output_type": "stream",
          "name": "stdout",
          "text": [
            "0.532\n"
          ]
        },
        {
          "output_type": "stream",
          "name": "stderr",
          "text": [
            "/usr/local/lib/python3.7/dist-packages/sklearn/svm/_base.py:1208: ConvergenceWarning: Liblinear failed to converge, increase the number of iterations.\n",
            "  ConvergenceWarning,\n"
          ]
        }
      ]
    },
    {
      "cell_type": "code",
      "source": [
        "#perceptron\n",
        "perceptron = Perceptron(max_iter=100)\n",
        "perceptron.fit(X_train, Y_train)\n",
        "Y_pred = perceptron.predict(X_test)\n",
        "acc_perceptron = round(perceptron.score(X_train, Y_train), 3)\n",
        "print(acc_perceptron)"
      ],
      "metadata": {
        "colab": {
          "base_uri": "https://localhost:8080/"
        },
        "id": "AEOBDfc2nn-i",
        "outputId": "73956958-a1f5-422d-aa85-6e18ca995fa1"
      },
      "execution_count": null,
      "outputs": [
        {
          "output_type": "stream",
          "name": "stdout",
          "text": [
            "0.762\n"
          ]
        }
      ]
    },
    {
      "cell_type": "code",
      "source": [
        "#SGD\n",
        "sgd = linear_model.SGDClassifier()\n",
        "sgd.fit(X_train, Y_train)\n",
        "Y_pred = sgd.predict(X_test)\n",
        "sgd.score(X_train, Y_train)\n",
        "acc_sgd = round(sgd.score(X_train, Y_train), 3)\n",
        "print(acc_sgd)"
      ],
      "metadata": {
        "colab": {
          "base_uri": "https://localhost:8080/"
        },
        "id": "zckAcEfZnucj",
        "outputId": "8825b17d-30a5-4f84-dba2-5461bf6631f0"
      },
      "execution_count": null,
      "outputs": [
        {
          "output_type": "stream",
          "name": "stdout",
          "text": [
            "0.811\n"
          ]
        }
      ]
    },
    {
      "cell_type": "code",
      "source": [
        "#貝式分類器\n",
        "gaussian = GaussianNB()\n",
        "gaussian.fit(X_train, Y_train)\n",
        "Y_pred = gaussian.predict(X_test)\n",
        "acc_gaussian = round(gaussian.score(X_train, Y_train), 3)\n",
        "print(acc_gaussian)"
      ],
      "metadata": {
        "colab": {
          "base_uri": "https://localhost:8080/"
        },
        "id": "d2duIbNAnxyW",
        "outputId": "910c5c7a-ee5d-4086-d4d1-8e46bdd42e36"
      },
      "execution_count": null,
      "outputs": [
        {
          "output_type": "stream",
          "name": "stdout",
          "text": [
            "0.801\n"
          ]
        }
      ]
    },
    {
      "cell_type": "code",
      "source": [
        "results = pd.DataFrame({\n",
        "    \"model\":[\"Support Vector Machines\", \"Logistic Regression\", \"Random Forest\", \"Naive Bayes\", \"Perceptron\",\n",
        "              \"Stochastic Gradient Decent\", \"Decision Tree\"],\n",
        "    \"acc\":[acc_linear_svc, acc_log, acc_random_forest, acc_gaussian, acc_perceptron, acc_sgd,\n",
        "            acc_decision_tree]})\n",
        "result = results.sort_values(by=\"acc\", ascending=False)\n",
        "result = result.set_index(\"acc\")\n",
        "print(result.head(9))"
      ],
      "metadata": {
        "colab": {
          "base_uri": "https://localhost:8080/"
        },
        "id": "gluV5ui1n2CI",
        "outputId": "351ea40e-1759-40f6-aa9a-7216aeeea0f3"
      },
      "execution_count": null,
      "outputs": [
        {
          "output_type": "stream",
          "name": "stdout",
          "text": [
            "                            model\n",
            "acc                              \n",
            "0.984               Random Forest\n",
            "0.984               Decision Tree\n",
            "0.828         Logistic Regression\n",
            "0.811  Stochastic Gradient Decent\n",
            "0.801                 Naive Bayes\n",
            "0.762                  Perceptron\n",
            "0.532     Support Vector Machines\n"
          ]
        }
      ]
    },
    {
      "cell_type": "markdown",
      "source": [
        "## 6. 交叉驗證\n",
        "\n"
      ],
      "metadata": {
        "id": "4wFV0XyhEpBn"
      }
    },
    {
      "cell_type": "markdown",
      "source": [
        "**K-Fold Cross Validation:**\n",
        "* 將訓練數據隨機分成K個子集，稱為Folds。這裡將數據分成10個子集(K=10)。隨機森林模型會被訓練和評估10次，每次使用不同的子集進行測試，並在剩餘的9個子集上進行訓練。\n"
      ],
      "metadata": {
        "id": "o0BJSa2TF5ih"
      }
    },
    {
      "cell_type": "code",
      "source": [
        "from sklearn.model_selection import cross_val_score\n",
        "acc = cross_val_score(random_forest, X_train, Y_train, cv=10, scoring=\"accuracy\")\n",
        "print(\"Acc:\", acc)\n",
        "print(\"Mean:\", acc.mean())\n",
        "print(\"Standard Deviation:\", acc.std())"
      ],
      "metadata": {
        "colab": {
          "base_uri": "https://localhost:8080/"
        },
        "id": "1Y3D6D_IEtqc",
        "outputId": "419d62b3-5ad6-4f2d-f79f-d9bf983dbb79"
      },
      "execution_count": null,
      "outputs": [
        {
          "output_type": "stream",
          "name": "stdout",
          "text": [
            "Acc: [0.78888889 0.85393258 0.76404494 0.84269663 0.85393258 0.84269663\n",
            " 0.82022472 0.76404494 0.85393258 0.80898876]\n",
            "Mean: 0.819338327091136\n",
            "Standard Deviation: 0.03439664568710531\n"
          ]
        }
      ]
    },
    {
      "cell_type": "markdown",
      "source": [
        "## 7. 特徵觀察\n",
        "\n"
      ],
      "metadata": {
        "id": "nP0ma11yIgvO"
      }
    },
    {
      "cell_type": "code",
      "source": [
        "importances = pd.DataFrame({'feature':X_train.columns,'importance':np.round(random_forest.feature_importances_,3)})\n",
        "importances = importances.sort_values('importance',ascending=False).set_index('feature')\n",
        "print(importances.head(9))"
      ],
      "metadata": {
        "colab": {
          "base_uri": "https://localhost:8080/"
        },
        "id": "TMXjnvXPIusw",
        "outputId": "8c68ce5e-faac-4b0e-9799-4de16677ce98"
      },
      "execution_count": null,
      "outputs": [
        {
          "output_type": "stream",
          "name": "stdout",
          "text": [
            "          importance\n",
            "feature             \n",
            "fare           0.226\n",
            "age            0.200\n",
            "title          0.176\n",
            "sex            0.125\n",
            "pclass         0.090\n",
            "name           0.081\n",
            "family         0.071\n",
            "embarked       0.031\n"
          ]
        }
      ]
    },
    {
      "cell_type": "markdown",
      "source": [
        "## 8. 超參數調整"
      ],
      "metadata": {
        "id": "GOZzPDnWXkef"
      }
    },
    {
      "cell_type": "markdown",
      "source": [
        "**調整隨機森林內的參數讓分數上升**\n",
        "\n",
        "*   criterion：選擇”gini”或“entropy”。選擇計算屬性的gini(基尼不純度)還是entropy(信息增益)，來選擇最合適的節點。\n",
        "\n",
        "*   n_estimators：決策樹的個數（決策樹是建立一棵樹，隨機森林是建立一個森林，這個參數是設定這個森林裡要包含多少棵樹），越多越好，但是性能就會越差。n_estimators達到一定程度後，隨機森林的準確性不是上升，而是開始波動，並且n_estimators越大建立的樹越多，需要的運算量也越大，訓練的時間也會越長。\n",
        "\n",
        "*   min_samples_split：至少有多少資料才能再分。\n",
        "\n",
        "*   min_samples_leaf：分完至少有多少資料才能分。\n",
        "\n",
        "*   oob_score：是否採用袋外樣本來評估模型的好壞。稱爲袋外數據(Out Of Bag,簡稱OOB)，這些數據沒有參與訓練集模型的擬合，因此可以用來檢測模型的適應性。\n",
        "\n",
        "*   random_state：亂數種子。由於每次生成的樹都是不一樣的，所以用這個參數保證每次產生的樹一致。"
      ],
      "metadata": {
        "id": "Zt1Feh_QGX2J"
      }
    },
    {
      "cell_type": "code",
      "source": [
        "random_forest = RandomForestClassifier(criterion='gini', \n",
        "                n_estimators=100,\n",
        "                min_samples_split=8,\n",
        "                min_samples_leaf=2,\n",
        "                oob_score=True,\n",
        "                random_state=1,\n",
        "                ) \n",
        "random_forest.fit(X_train, Y_train) \n",
        "Y_prediction = random_forest.predict(X_test) \n",
        "random_forest.score(X_train, Y_train)\n",
        "oobscore = round(random_forest.oob_score_,3)\n",
        "print(\"oobscore:\", oobscore)"
      ],
      "metadata": {
        "id": "ZtsuPUDdaTXU",
        "colab": {
          "base_uri": "https://localhost:8080/"
        },
        "outputId": "afcf416f-1ce7-4a38-9973-643476aa1934"
      },
      "execution_count": null,
      "outputs": [
        {
          "output_type": "stream",
          "name": "stdout",
          "text": [
            "oobscore: 0.843\n"
          ]
        }
      ]
    },
    {
      "cell_type": "markdown",
      "source": [
        "# 上傳kaggle"
      ],
      "metadata": {
        "id": "ntDFvPn2aMD-"
      }
    },
    {
      "cell_type": "code",
      "source": [
        "#結果提交\n",
        "submit['Survived'] = Y_prediction\n",
        "submit['Survived'] = submit['Survived'].astype(int)\n",
        "submit.to_csv(save_path+'\\\\'+ save_name,encoding=\"utf_8_sig\",index=False)"
      ],
      "metadata": {
        "id": "EsYp5otRaQk8"
      },
      "execution_count": null,
      "outputs": []
    },
    {
      "cell_type": "markdown",
      "source": [
        "結果:前21%"
      ],
      "metadata": {
        "id": "GWgak6fDXFkj"
      }
    },
    {
      "cell_type": "markdown",
      "source": [
        "![image.png](data:image/png;base64,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)"
      ],
      "metadata": {
        "id": "P4crFa6GX2Lo"
      }
    }
  ]
}